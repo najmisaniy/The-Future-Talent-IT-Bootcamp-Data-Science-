{
 "cells": [
  {
   "cell_type": "markdown",
   "id": "944d6310-fc8c-4d5c-96a4-317ac7e87ad6",
   "metadata": {},
   "source": [
    "<img src=\"https://s3-api.us-geo.objectstorage.softlayer.net/cf-courses-data/CognitiveClass/PY0101EN/Chapter%201/Images/StringsIndex.png\" width=\"600\" align=\"center\" />\n"
   ]
  },
  {
   "cell_type": "markdown",
   "id": "9f5cdf05-c3fc-477f-889b-a9bf1e465e7d",
   "metadata": {},
   "source": [
    "<img src=\"https://s3-api.us-geo.objectstorage.softlayer.net/cf-courses-data/CognitiveClass/PY0101EN/Chapter%201/Images/StringsNeg.png\" width=\"600\" align=\"center\" />"
   ]
  },
  {
   "cell_type": "code",
   "execution_count": 8,
   "id": "cab6a9d9-78a2-4948-a977-c149196b5775",
   "metadata": {},
   "outputs": [],
   "source": [
    "singer = \"Michael Jackson\"\n"
   ]
  },
  {
   "cell_type": "code",
   "execution_count": 10,
   "id": "ecee7a33-d16d-4645-9150-77ef2b841634",
   "metadata": {},
   "outputs": [
    {
     "data": {
      "text/plain": [
       "str"
      ]
     },
     "execution_count": 10,
     "metadata": {},
     "output_type": "execute_result"
    }
   ],
   "source": [
    "type(singer)"
   ]
  },
  {
   "cell_type": "code",
   "execution_count": 12,
   "id": "c95cae77-cd31-4a04-9e3a-be3cb2970280",
   "metadata": {},
   "outputs": [
    {
     "name": "stdout",
     "output_type": "stream",
     "text": [
      "Michael Jackson\n",
      "c\n",
      "e\n",
      "c\n",
      "n\n",
      "n\n"
     ]
    }
   ],
   "source": [
    "print(singer)\n",
    "print(singer[2])\n",
    "print(singer[5])\n",
    "print(singer[10])\n",
    "print(singer[14])\n",
    "print(singer[-1])\n"
   ]
  },
  {
   "cell_type": "markdown",
   "id": "bb209f8e-351a-4d3e-99b0-1a4bfb68767a",
   "metadata": {},
   "source": [
    "# Print the first and last String"
   ]
  },
  {
   "cell_type": "code",
   "execution_count": 34,
   "id": "51b8abe9-ff18-45e7-a7c3-e5c1085eb9ed",
   "metadata": {},
   "outputs": [
    {
     "name": "stdout",
     "output_type": "stream",
     "text": [
      "M\n",
      "i\n",
      "o\n",
      "n\n"
     ]
    }
   ],
   "source": [
    "print(singer[0])\n",
    "print(singer[1])\n",
    "print(singer[-2])\n",
    "print(singer[-1])"
   ]
  },
  {
   "cell_type": "markdown",
   "id": "f09d78ca-36a6-4aff-99e7-47518251dfe1",
   "metadata": {},
   "source": [
    "# Index Slicing\n"
   ]
  },
  {
   "cell_type": "markdown",
   "id": "cc1f617c-e14e-4468-a89e-b9c8bab2009f",
   "metadata": {},
   "source": [
    "print(singer[Index to start:index to stop])"
   ]
  },
  {
   "cell_type": "code",
   "execution_count": 28,
   "id": "0cfd9766-d11a-4ac6-a4c1-bf600f4ccad0",
   "metadata": {},
   "outputs": [
    {
     "name": "stdout",
     "output_type": "stream",
     "text": [
      "Michael\n"
     ]
    }
   ],
   "source": [
    "print(singer[0:7])"
   ]
  },
  {
   "cell_type": "code",
   "execution_count": 36,
   "id": "a6a10254-df00-46b2-9e00-a3f80c99f2b9",
   "metadata": {},
   "outputs": [
    {
     "name": "stdout",
     "output_type": "stream",
     "text": [
      "Michael\n"
     ]
    }
   ],
   "source": [
    "print(singer[:7])"
   ]
  },
  {
   "cell_type": "markdown",
   "id": "6c75e861-4a7f-4502-a7ec-bf6679454489",
   "metadata": {},
   "source": [
    "**printing JACKSON**\n"
   ]
  },
  {
   "cell_type": "code",
   "execution_count": 53,
   "id": "0ff36878-b94d-4e09-a78e-b8f948383aa4",
   "metadata": {},
   "outputs": [
    {
     "name": "stdout",
     "output_type": "stream",
     "text": [
      "Jackson\n",
      "Jackson\n",
      "Jackson\n",
      "Jackson\n"
     ]
    }
   ],
   "source": [
    "print(singer[8:15])\n",
    "print(singer[8:])\n",
    "print(singer[-7:])\n",
    "print(singer[-7:15])\n"
   ]
  },
  {
   "cell_type": "code",
   "execution_count": 61,
   "id": "85cd59ee-2499-4f15-8d45-7f01c298b3fc",
   "metadata": {},
   "outputs": [
    {
     "name": "stdout",
     "output_type": "stream",
     "text": [
      "Mcal\n"
     ]
    }
   ],
   "source": [
    "print(singer[:7:2]) #skip index by 2"
   ]
  },
  {
   "cell_type": "markdown",
   "id": "378476d3-059a-4e00-b4e3-f1e602162485",
   "metadata": {},
   "source": [
    "<img src=\"https://s3-api.us-geo.objectstorage.softlayer.net/cf-courses-data/CognitiveClass/PY0101EN/Chapter%201/Images/StringsIndex.png\" width=\"600\" align=\"center\" />"
   ]
  },
  {
   "cell_type": "code",
   "execution_count": 63,
   "id": "2ee978be-36da-4cb3-8e7c-311df3006baf",
   "metadata": {},
   "outputs": [
    {
     "name": "stdout",
     "output_type": "stream",
     "text": [
      "McalJcsn\n"
     ]
    }
   ],
   "source": [
    "print(singer[:15:2]) #skip index by 3"
   ]
  },
  {
   "cell_type": "markdown",
   "id": "f1773981-2d7e-48f0-ae63-f20b6abb2b28",
   "metadata": {},
   "source": [
    "## concartinate string"
   ]
  },
  {
   "cell_type": "code",
   "execution_count": 72,
   "id": "3d23d21e-257b-4990-8cd8-e480d7d7c354",
   "metadata": {},
   "outputs": [
    {
     "name": "stdout",
     "output_type": "stream",
     "text": [
      "Big Data\n"
     ]
    }
   ],
   "source": [
    "#Combining 2 or more String\n",
    "str1 = 'Big'\n",
    "str2 = 'Data'\n",
    "\n",
    "str3 = str1 +\" \"+ str2\n",
    "\n",
    "print(str3)"
   ]
  },
  {
   "cell_type": "code",
   "execution_count": 74,
   "id": "9c20bd29-5f0a-4738-af5b-c1352b99f7ff",
   "metadata": {},
   "outputs": [
    {
     "name": "stdout",
     "output_type": "stream",
     "text": [
      "DataBig\n"
     ]
    }
   ],
   "source": [
    "str4 = str2+str1\n",
    "print(str4)"
   ]
  },
  {
   "cell_type": "code",
   "execution_count": 84,
   "id": "877e95c3-27e9-43e0-b046-c262d7f86963",
   "metadata": {},
   "outputs": [],
   "source": [
    "int1 = \" 52\""
   ]
  },
  {
   "cell_type": "code",
   "execution_count": 86,
   "id": "1feb923d-147b-4344-b8ea-7e3246037a4f",
   "metadata": {},
   "outputs": [
    {
     "name": "stdout",
     "output_type": "stream",
     "text": [
      "Big Data 52\n"
     ]
    }
   ],
   "source": [
    "print(str3 + int1)"
   ]
  },
  {
   "cell_type": "code",
   "execution_count": 92,
   "id": "c33ced21-bfc8-44ee-9386-8a50452b89be",
   "metadata": {},
   "outputs": [],
   "source": [
    "int2 = int(int1)"
   ]
  },
  {
   "cell_type": "code",
   "execution_count": 94,
   "id": "3bc66096-7ff6-437e-98de-19ed69978d78",
   "metadata": {},
   "outputs": [],
   "source": [
    "int3 = float(int2)"
   ]
  },
  {
   "cell_type": "code",
   "execution_count": 96,
   "id": "d346ca13-ced4-49e2-b596-d4b5be5b2351",
   "metadata": {},
   "outputs": [
    {
     "data": {
      "text/plain": [
       "52.0"
      ]
     },
     "execution_count": 96,
     "metadata": {},
     "output_type": "execute_result"
    }
   ],
   "source": [
    "int3"
   ]
  },
  {
   "cell_type": "code",
   "execution_count": 98,
   "id": "b1a711ee-5aa7-47f5-870c-d281cb25a5f8",
   "metadata": {},
   "outputs": [
    {
     "ename": "TypeError",
     "evalue": "can only concatenate str (not \"float\") to str",
     "output_type": "error",
     "traceback": [
      "\u001b[1;31m---------------------------------------------------------------------------\u001b[0m",
      "\u001b[1;31mTypeError\u001b[0m                                 Traceback (most recent call last)",
      "Cell \u001b[1;32mIn[98], line 1\u001b[0m\n\u001b[1;32m----> 1\u001b[0m \u001b[38;5;28mprint\u001b[39m(str3 \u001b[38;5;241m+\u001b[39m int3)\n",
      "\u001b[1;31mTypeError\u001b[0m: can only concatenate str (not \"float\") to str"
     ]
    }
   ],
   "source": [
    "print(str3 + int3)"
   ]
  },
  {
   "cell_type": "code",
   "execution_count": 100,
   "id": "e97ceb6e-d4c4-4b14-89a1-b4450ced4906",
   "metadata": {},
   "outputs": [],
   "source": [
    "str5 = str(int3)"
   ]
  },
  {
   "cell_type": "code",
   "execution_count": 102,
   "id": "cb0a3274-b3e1-42e9-9a1a-0b0c1c0b5b51",
   "metadata": {},
   "outputs": [
    {
     "data": {
      "text/plain": [
       "'52.0'"
      ]
     },
     "execution_count": 102,
     "metadata": {},
     "output_type": "execute_result"
    }
   ],
   "source": [
    "str5"
   ]
  },
  {
   "cell_type": "code",
   "execution_count": 104,
   "id": "0de995ca-95e7-4031-a0ca-3623bdb88a9a",
   "metadata": {},
   "outputs": [
    {
     "ename": "ValueError",
     "evalue": "invalid literal for int() with base 10: 'Big Data'",
     "output_type": "error",
     "traceback": [
      "\u001b[1;31m---------------------------------------------------------------------------\u001b[0m",
      "\u001b[1;31mValueError\u001b[0m                                Traceback (most recent call last)",
      "Cell \u001b[1;32mIn[104], line 1\u001b[0m\n\u001b[1;32m----> 1\u001b[0m int5 \u001b[38;5;241m=\u001b[39m \u001b[38;5;28mint\u001b[39m(str3)\n",
      "\u001b[1;31mValueError\u001b[0m: invalid literal for int() with base 10: 'Big Data'"
     ]
    }
   ],
   "source": [
    "int5 = int(str3)"
   ]
  },
  {
   "cell_type": "markdown",
   "id": "b24501c1-7b34-47b1-8cc3-ccc2290b9da6",
   "metadata": {},
   "source": [
    "**Pyhtom Data Structure**\n",
    "\n",
    "* List []\n",
    "* Tuple ()\n",
    "* Set {}\n",
    "* Dictionary {}"
   ]
  },
  {
   "cell_type": "code",
   "execution_count": 122,
   "id": "eb7aa55a-d33e-4b47-bd8f-5e603599cb5b",
   "metadata": {},
   "outputs": [
    {
     "name": "stdout",
     "output_type": "stream",
     "text": [
      "[8.8, 'dATA sCIENCE', 2024, 99, -20]\n",
      "(8.8, 'Data Science', 2024, 99, -20)\n",
      "{99, 8.8, 'Data Science', 2024, -20}\n"
     ]
    }
   ],
   "source": [
    "L1 = [8.8, \"dATA sCIENCE\", 2024, 99, -20]\n",
    "T1 = (8.8, \"Data Science\", 2024, 99, -20)\n",
    "s1 = {8.8, \"Data Science\", 2024, 99, -20}\n",
    "\n",
    "print(L1)\n",
    "print(T1)\n",
    "print(s1)"
   ]
  },
  {
   "cell_type": "markdown",
   "id": "c460c52a-5fd8-4398-97e1-037062a945fe",
   "metadata": {},
   "source": [
    "**List**"
   ]
  },
  {
   "cell_type": "code",
   "execution_count": 124,
   "id": "39e0dc4c-3127-4e02-a9d2-a74131b8b1a7",
   "metadata": {},
   "outputs": [
    {
     "name": "stdout",
     "output_type": "stream",
     "text": [
      "2024\n",
      "[2024, 99, -20]\n"
     ]
    }
   ],
   "source": [
    "#index\n",
    "\n",
    "print(L1[2])\n",
    "print(L1[2:])"
   ]
  },
  {
   "cell_type": "code",
   "execution_count": 145,
   "id": "74bfc1d9-03d7-43bd-947d-08327d9732f2",
   "metadata": {},
   "outputs": [
    {
     "name": "stdout",
     "output_type": "stream",
     "text": [
      "[8.8, 'dATA sCIENCE', 2024, 99, -20, 55, 'AI']\n"
     ]
    },
    {
     "data": {
      "text/plain": [
       "[8.8, 'dATA sCIENCE', 2024, 99, -20, ['ML', 999]]"
      ]
     },
     "execution_count": 145,
     "metadata": {},
     "output_type": "execute_result"
    }
   ],
   "source": [
    "# extend & append\n",
    "L1 = [8.8, \"dATA sCIENCE\", 2024, 99, -20]\n",
    "L1.extend([55, \"AI\"])  #add item at end of list\n",
    "\n",
    "\n",
    "\n",
    "L1\n",
    "\n",
    "print(L1)\n",
    "\n",
    "L1 = [8.8, \"dATA sCIENCE\", 2024, 99, -20]\n",
    "\n",
    "L1.append(['ML',999])\n",
    "\n",
    "L1"
   ]
  },
  {
   "cell_type": "markdown",
   "id": "12e5f6bd-da37-41e7-80bb-34139d33435e",
   "metadata": {},
   "source": [
    "**nested list**"
   ]
  },
  {
   "cell_type": "code",
   "execution_count": 150,
   "id": "3114085b-9cd6-4c86-992d-e9a3a5b2d1f2",
   "metadata": {},
   "outputs": [
    {
     "name": "stdout",
     "output_type": "stream",
     "text": [
      "999\n"
     ]
    }
   ],
   "source": [
    "print(L1[-1][-1])"
   ]
  },
  {
   "cell_type": "code",
   "execution_count": 152,
   "id": "e5da9a58-c9dc-4278-88e8-dea83342c090",
   "metadata": {},
   "outputs": [
    {
     "name": "stdout",
     "output_type": "stream",
     "text": [
      "['ML', 999]\n"
     ]
    }
   ],
   "source": [
    "print(L1[-1])"
   ]
  },
  {
   "cell_type": "code",
   "execution_count": 180,
   "id": "7249ce8e-f4c0-478a-91c6-a28327b8bb2a",
   "metadata": {},
   "outputs": [
    {
     "name": "stdout",
     "output_type": "stream",
     "text": [
      "['B', 'C']\n"
     ]
    }
   ],
   "source": [
    "L2 = [8.8,'data science',2024,99,-20, 55,'AI', ['ML',999,['A','B','C']]]\n",
    "\n",
    "#print letter B and C\n",
    "\n",
    "print(L2[-1][-1][-2:])"
   ]
  },
  {
   "cell_type": "code",
   "execution_count": 3,
   "id": "834eb329-e7ab-4dd4-915b-45d9d9c1df4a",
   "metadata": {},
   "outputs": [
    {
     "ename": "AttributeError",
     "evalue": "'tuple' object has no attribute 'extend'",
     "output_type": "error",
     "traceback": [
      "\u001b[1;31m---------------------------------------------------------------------------\u001b[0m",
      "\u001b[1;31mAttributeError\u001b[0m                            Traceback (most recent call last)",
      "Cell \u001b[1;32mIn[3], line 6\u001b[0m\n\u001b[0;32m      2\u001b[0m list_new_items \u001b[38;5;241m=\u001b[39m [\u001b[38;5;241m888\u001b[39m, \u001b[38;5;124m'\u001b[39m\u001b[38;5;124mPython\u001b[39m\u001b[38;5;124m'\u001b[39m, \u001b[38;5;124m'\u001b[39m\u001b[38;5;124mDL\u001b[39m\u001b[38;5;124m'\u001b[39m]\n\u001b[0;32m      4\u001b[0m \u001b[38;5;66;03m#Create a new tuple of the above tuple and list\u001b[39;00m\n\u001b[1;32m----> 6\u001b[0m new_tuple \u001b[38;5;241m=\u001b[39m t5\u001b[38;5;241m.\u001b[39mextend(list_new_items)\n\u001b[0;32m      7\u001b[0m new_tuple\n",
      "\u001b[1;31mAttributeError\u001b[0m: 'tuple' object has no attribute 'extend'"
     ]
    }
   ],
   "source": [
    "t5 = ('AI', 'Data', 2024, 'ML')\n",
    "list_new_items = [888, 'Python', 'DL']\n",
    "\n",
    "#Create a new tuple of the above tuple and list\n",
    "\n",
    "new_tuple = t5.extend(list_new_items)\n",
    "new_tuple"
   ]
  },
  {
   "cell_type": "code",
   "execution_count": 5,
   "id": "d6359c9f-0a7f-4336-b349-1dc0c9b668e4",
   "metadata": {},
   "outputs": [],
   "source": [
    "s1={8.8, 'Data Science', 99,2.2, 'Python'}"
   ]
  },
  {
   "cell_type": "code",
   "execution_count": 7,
   "id": "7aa8b91e-306e-4036-af1d-35a0c971a5ca",
   "metadata": {},
   "outputs": [
    {
     "data": {
      "text/plain": [
       "set"
      ]
     },
     "execution_count": 7,
     "metadata": {},
     "output_type": "execute_result"
    }
   ],
   "source": [
    "type(s1)"
   ]
  },
  {
   "cell_type": "code",
   "execution_count": 9,
   "id": "05a408a8-4e42-4ebc-997e-be72eae640e9",
   "metadata": {},
   "outputs": [
    {
     "name": "stdout",
     "output_type": "stream",
     "text": [
      "{2.2, 99, 'Python', 'Data Science', 8.8}\n"
     ]
    }
   ],
   "source": [
    "print(s1)"
   ]
  },
  {
   "cell_type": "code",
   "execution_count": null,
   "id": "1cefc875-bd68-4358-86c7-712e6801d3e2",
   "metadata": {},
   "outputs": [],
   "source": []
  }
 ],
 "metadata": {
  "kernelspec": {
   "display_name": "Python 3 (ipykernel)",
   "language": "python",
   "name": "python3"
  },
  "language_info": {
   "codemirror_mode": {
    "name": "ipython",
    "version": 3
   },
   "file_extension": ".py",
   "mimetype": "text/x-python",
   "name": "python",
   "nbconvert_exporter": "python",
   "pygments_lexer": "ipython3",
   "version": "3.12.4"
  }
 },
 "nbformat": 4,
 "nbformat_minor": 5
}
