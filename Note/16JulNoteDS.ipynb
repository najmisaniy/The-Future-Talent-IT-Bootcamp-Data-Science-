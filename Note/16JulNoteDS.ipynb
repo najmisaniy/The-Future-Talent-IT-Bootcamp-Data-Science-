{
 "cells": [
  {
   "cell_type": "code",
   "execution_count": 5,
   "id": "2be377d1-0112-4be9-8f5c-339d5c417dd6",
   "metadata": {},
   "outputs": [],
   "source": [
    "def missing_value(list_missing_value):\n",
    "    list_missing_value= sorted(list_missing_value)\n",
    "\n",
    "    for i in range(1,len(list_missing_value)): \n",
    "        if list_missing_value[i] - list_missing_value[i-1] != 1:\n",
    "            print('The missing value is:', (list_missing_value[i])-1)\n",
    "    return None\n",
    "    "
   ]
  },
  {
   "cell_type": "code",
   "execution_count": 7,
   "id": "395c5ca0-9a82-461d-acef-365dc72d06c2",
   "metadata": {},
   "outputs": [
    {
     "name": "stdout",
     "output_type": "stream",
     "text": [
      "The missing value is: 6\n"
     ]
    }
   ],
   "source": [
    "num_list=[1,4,3,2,5,8,7]\n",
    "num_list.sort()\n",
    "\n",
    "missing_value(num_list)"
   ]
  },
  {
   "cell_type": "code",
   "execution_count": 49,
   "id": "70fb7e70-52fd-45e7-aa82-f11ca5d26a2d",
   "metadata": {},
   "outputs": [],
   "source": [
    "def remove_dup(dup_list):\n",
    "    removed_list=[]\n",
    "    for i in range(0,len(dup_list)):\n",
    "   # generating a random number in the range 1 to 20\n",
    "        r=dup_list[i]\n",
    "   # checking whether the generated random number is not in the\n",
    "   # randomList\n",
    "        if r not in removed_list:\n",
    "           removed_list.append(r)\n",
    "\n",
    "\n",
    "    print(removed_list)\n",
    "       \n",
    "    return None     "
   ]
  },
  {
   "cell_type": "code",
   "execution_count": 51,
   "id": "e7ac0f72-34e9-462b-9bd2-55031d36ca1f",
   "metadata": {
    "scrolled": true
   },
   "outputs": [
    {
     "name": "stdout",
     "output_type": "stream",
     "text": [
      "[100, 20, -30, 0]\n"
     ]
    }
   ],
   "source": [
    "#write a function to remove duplicates from a list of numbers\n",
    "\n",
    "list_duplicate = [100, 20, -30, 100, 20, 0, -30]\n",
    "\n",
    "remove_dup(list_duplicate)"
   ]
  },
  {
   "cell_type": "code",
   "execution_count": 54,
   "id": "6cd75875-bed8-4521-80e7-280ac1bc7522",
   "metadata": {
    "scrolled": true
   },
   "outputs": [
    {
     "data": {
      "text/plain": [
       "{-30, 0, 20, 100}"
      ]
     },
     "execution_count": 54,
     "metadata": {},
     "output_type": "execute_result"
    }
   ],
   "source": [
    "#write a function to remove duplicates from a list of numbers\n",
    "\n",
    "list_duplicate = [100, 20, -30, 100, 20, 0, -30]\n",
    "\n",
    "set_list_duplicate=set(list_duplicate)\n",
    "set_list_duplicate"
   ]
  },
  {
   "cell_type": "code",
   "execution_count": null,
   "id": "a6c5ee13-19f3-4535-84ca-c9de14bf5f5b",
   "metadata": {},
   "outputs": [],
   "source": []
  }
 ],
 "metadata": {
  "kernelspec": {
   "display_name": "Python 3 (ipykernel)",
   "language": "python",
   "name": "python3"
  },
  "language_info": {
   "codemirror_mode": {
    "name": "ipython",
    "version": 3
   },
   "file_extension": ".py",
   "mimetype": "text/x-python",
   "name": "python",
   "nbconvert_exporter": "python",
   "pygments_lexer": "ipython3",
   "version": "3.12.4"
  }
 },
 "nbformat": 4,
 "nbformat_minor": 5
}
