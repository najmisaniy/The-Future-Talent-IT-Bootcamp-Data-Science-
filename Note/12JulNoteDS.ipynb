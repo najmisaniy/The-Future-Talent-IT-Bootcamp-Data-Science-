{
 "cells": [
  {
   "cell_type": "code",
   "execution_count": 39,
   "id": "3ece476a-1ddd-4ee9-9f2b-94e1aa833361",
   "metadata": {},
   "outputs": [],
   "source": [
    "s1={8.8, 'Data Science', 99,2.2, 'Python'}"
   ]
  },
  {
   "cell_type": "code",
   "execution_count": 5,
   "id": "f413df19-6c70-44a3-86da-8ea8db2e57b6",
   "metadata": {},
   "outputs": [],
   "source": [
    "s2={20, -10, 0, 5, 99, -10, 20, 2.2, 88}"
   ]
  },
  {
   "cell_type": "code",
   "execution_count": 7,
   "id": "cf9ba56e-2fc8-40ae-ac74-5c3a1aa03380",
   "metadata": {},
   "outputs": [
    {
     "name": "stdout",
     "output_type": "stream",
     "text": [
      "{0, 2.2, 99, 20, 5, -10, 88}\n"
     ]
    }
   ],
   "source": [
    "print(s2)\n"
   ]
  },
  {
   "cell_type": "code",
   "execution_count": 9,
   "id": "29d75286-0fd8-4477-af40-230f0934ee5f",
   "metadata": {},
   "outputs": [
    {
     "data": {
      "text/plain": [
       "{-10, 0, 2.2, 5, 20, 88, 99}"
      ]
     },
     "execution_count": 9,
     "metadata": {},
     "output_type": "execute_result"
    }
   ],
   "source": [
    "s2"
   ]
  },
  {
   "cell_type": "code",
   "execution_count": 15,
   "id": "38202408-2bc4-4e12-acad-0014c0f9d76c",
   "metadata": {},
   "outputs": [],
   "source": [
    "s3 = {'Data', 'ai', 'ML', 'python', 'Big data'}"
   ]
  },
  {
   "cell_type": "code",
   "execution_count": 17,
   "id": "0400077a-ff8b-419b-a419-f618b5c3633c",
   "metadata": {},
   "outputs": [
    {
     "data": {
      "text/plain": [
       "{'Big data', 'Data', 'ML', 'ai', 'python'}"
      ]
     },
     "execution_count": 17,
     "metadata": {},
     "output_type": "execute_result"
    }
   ],
   "source": [
    "s3"
   ]
  },
  {
   "cell_type": "code",
   "execution_count": 19,
   "id": "07364889-1a50-4077-8d6e-cabd9c8d18a4",
   "metadata": {},
   "outputs": [],
   "source": [
    "s4={'data', 'ai', 'ml', 'python', 'big data'}"
   ]
  },
  {
   "cell_type": "code",
   "execution_count": 21,
   "id": "820ede70-e672-4c76-a5a6-8f23cb5d5bbc",
   "metadata": {},
   "outputs": [
    {
     "data": {
      "text/plain": [
       "{'ai', 'big data', 'data', 'ml', 'python'}"
      ]
     },
     "execution_count": 21,
     "metadata": {},
     "output_type": "execute_result"
    }
   ],
   "source": [
    "s4"
   ]
  },
  {
   "cell_type": "code",
   "execution_count": 27,
   "id": "5b59b447-5a20-4bd5-96c2-30374e023c9a",
   "metadata": {},
   "outputs": [],
   "source": [
    "s5={'Data', 'ai', 'ml', 'Python', 'Big data'}"
   ]
  },
  {
   "cell_type": "code",
   "execution_count": 29,
   "id": "b86ea163-342f-4ed9-ae55-ecd14f5da091",
   "metadata": {},
   "outputs": [
    {
     "data": {
      "text/plain": [
       "{'Big data', 'Data', 'Python', 'ai', 'ml'}"
      ]
     },
     "execution_count": 29,
     "metadata": {},
     "output_type": "execute_result"
    }
   ],
   "source": [
    "s5"
   ]
  },
  {
   "cell_type": "code",
   "execution_count": 31,
   "id": "c3dd2a65-16c4-4b3b-a3ea-55463f9217d6",
   "metadata": {},
   "outputs": [
    {
     "data": {
      "text/plain": [
       "{'Big data', 'Data', 'Python', 'ai', 'deep learning', 'ml'}"
      ]
     },
     "execution_count": 31,
     "metadata": {},
     "output_type": "execute_result"
    }
   ],
   "source": [
    "#add \n",
    "\n",
    "s5.add('deep learning')\n",
    "s5"
   ]
  },
  {
   "cell_type": "code",
   "execution_count": 33,
   "id": "24d67db4-b6ef-4ebd-8a9b-46810d352d3a",
   "metadata": {},
   "outputs": [
    {
     "data": {
      "text/plain": [
       "{-10, 0, 2.2, 5, 10, 20, 88, 99}"
      ]
     },
     "execution_count": 33,
     "metadata": {},
     "output_type": "execute_result"
    }
   ],
   "source": [
    "s2.add(10)\n",
    "s2"
   ]
  },
  {
   "cell_type": "code",
   "execution_count": 35,
   "id": "48a72e53-c3a7-4f96-bc12-37602db856d3",
   "metadata": {},
   "outputs": [
    {
     "data": {
      "text/plain": [
       "{-10, 0, 2.2, 5, 10, 20, 99}"
      ]
     },
     "execution_count": 35,
     "metadata": {},
     "output_type": "execute_result"
    }
   ],
   "source": [
    "#Remove\n",
    "s2.remove(88)\n",
    "s2\n"
   ]
  },
  {
   "cell_type": "code",
   "execution_count": 47,
   "id": "42409720-1aab-47fe-9df7-0ef6f37e82c7",
   "metadata": {},
   "outputs": [
    {
     "data": {
      "text/plain": [
       "{1, 3, 5, 7, 8, 9, 10, 11}"
      ]
     },
     "execution_count": 47,
     "metadata": {},
     "output_type": "execute_result"
    }
   ],
   "source": [
    "#intersection\n",
    "\n",
    "set_a= {1,3,5,7,8,9,10,11,12,13,14}   #actual results\n",
    "set_b= {1,2,3,4,5,6,7,8,9,10,11}      #predicted results\n",
    "\n",
    "set_a.intersection(set_b)\n"
   ]
  },
  {
   "cell_type": "code",
   "execution_count": 51,
   "id": "36de7a5a-a519-4c9f-833f-0be181aa57df",
   "metadata": {},
   "outputs": [
    {
     "data": {
      "text/plain": [
       "{1, 2, 3, 4, 5, 6, 7, 8, 9, 10, 11, 12, 13, 14}"
      ]
     },
     "execution_count": 51,
     "metadata": {},
     "output_type": "execute_result"
    }
   ],
   "source": [
    "#union\n",
    "\n",
    "set_a.union(set_b)\n"
   ]
  },
  {
   "cell_type": "code",
   "execution_count": 53,
   "id": "9bb41644-227f-4dfb-8d0e-607a293dc82c",
   "metadata": {},
   "outputs": [
    {
     "data": {
      "text/plain": [
       "{1, 2, 3, 4, 5}"
      ]
     },
     "execution_count": 53,
     "metadata": {},
     "output_type": "execute_result"
    }
   ],
   "source": [
    "list_a=[1,2,3,4,1,2,5]\n",
    "\n",
    "set_list_a =set(list_a)\n",
    "set_list_a"
   ]
  },
  {
   "cell_type": "code",
   "execution_count": 59,
   "id": "54acfec4-c6d1-458a-9f5e-2358b8000997",
   "metadata": {},
   "outputs": [
    {
     "data": {
      "text/plain": [
       "{-99, 0, 55.6, 88, 100, 101}"
      ]
     },
     "execution_count": 59,
     "metadata": {},
     "output_type": "execute_result"
    }
   ],
   "source": [
    "#Write a code to find the highest value in a list of number by using set only\n",
    "\n",
    "list_b = [100,-99,101,88,55.6,0]\n",
    "\n",
    "set_list_b = set(list_b)\n",
    "set_list_b"
   ]
  },
  {
   "cell_type": "code",
   "execution_count": 91,
   "id": "aa267d81-b72b-4aef-9c34-702768614c9e",
   "metadata": {},
   "outputs": [],
   "source": [
    "highest_value = next(iter(set_b))"
   ]
  },
  {
   "cell_type": "code",
   "execution_count": 93,
   "id": "bd81da40-9ba2-4f25-b39d-00960b2cc2cb",
   "metadata": {},
   "outputs": [],
   "source": [
    "for num in set_b:\n",
    "    if num > highest_value:\n",
    "        highest_value = num"
   ]
  },
  {
   "cell_type": "code",
   "execution_count": 95,
   "id": "a42f0f36-b581-4c76-a045-32d1fe898af1",
   "metadata": {},
   "outputs": [
    {
     "data": {
      "text/plain": [
       "11"
      ]
     },
     "execution_count": 95,
     "metadata": {},
     "output_type": "execute_result"
    }
   ],
   "source": [
    "num"
   ]
  },
  {
   "cell_type": "code",
   "execution_count": 97,
   "id": "9017c23a-ff1b-4642-b7d1-5567daafb07b",
   "metadata": {},
   "outputs": [],
   "source": [
    "list_set_list_b=set_list_b\n"
   ]
  },
  {
   "cell_type": "code",
   "execution_count": 99,
   "id": "fee461b5-b381-41ea-856c-c016def50a37",
   "metadata": {},
   "outputs": [
    {
     "name": "stdout",
     "output_type": "stream",
     "text": [
      "101\n"
     ]
    }
   ],
   "source": [
    "print (max(set_list_b))"
   ]
  },
  {
   "cell_type": "code",
   "execution_count": 101,
   "id": "a777f58a-6897-4744-b53e-9d44578d7fc2",
   "metadata": {},
   "outputs": [
    {
     "data": {
      "text/plain": [
       "{12, 13, 14}"
      ]
     },
     "execution_count": 101,
     "metadata": {},
     "output_type": "execute_result"
    }
   ],
   "source": [
    "#difference\n",
    "\n",
    "set_a.difference(set_b)\n"
   ]
  },
  {
   "cell_type": "code",
   "execution_count": 103,
   "id": "6e77ee1a-37f3-4373-9206-2ffd46d5c4ba",
   "metadata": {},
   "outputs": [
    {
     "data": {
      "text/plain": [
       "{2, 4, 6}"
      ]
     },
     "execution_count": 103,
     "metadata": {},
     "output_type": "execute_result"
    }
   ],
   "source": [
    "set_b.difference(set_a)"
   ]
  },
  {
   "cell_type": "markdown",
   "id": "0adb87a3-eb8b-4dd4-ae0b-c2bc75600d9f",
   "metadata": {},
   "source": [
    "# Dictionary\n",
    "\n",
    "* Each item has a key and a value\n",
    "* Key : value\n",
    "* Dictionary {key1:value1, key2:value2, ...... keyn:valuen}\n",
    "* \n"
   ]
  },
  {
   "cell_type": "code",
   "execution_count": 113,
   "id": "79cec418-714e-4bbf-97b0-6049307f7fe4",
   "metadata": {},
   "outputs": [
    {
     "data": {
      "text/plain": [
       "{'AI': 99, 8.8: ['ML', 'DL'], (1, 2, 3): ['bIG dATA']}"
      ]
     },
     "execution_count": 113,
     "metadata": {},
     "output_type": "execute_result"
    }
   ],
   "source": [
    "d1 = {'AI':99, 8.8:['ML','DL'], (1,2,3):['bIG dATA']}\n",
    "d1"
   ]
  },
  {
   "cell_type": "code",
   "execution_count": 115,
   "id": "99c83744-3256-41ae-af21-c083342464a2",
   "metadata": {},
   "outputs": [
    {
     "data": {
      "text/plain": [
       "dict"
      ]
     },
     "execution_count": 115,
     "metadata": {},
     "output_type": "execute_result"
    }
   ],
   "source": [
    "type(d1)"
   ]
  },
  {
   "cell_type": "code",
   "execution_count": 117,
   "id": "b93a4641-4529-4837-98e4-d80d42c3e363",
   "metadata": {},
   "outputs": [
    {
     "data": {
      "text/plain": [
       "99"
      ]
     },
     "execution_count": 117,
     "metadata": {},
     "output_type": "execute_result"
    }
   ],
   "source": [
    "d1['AI']"
   ]
  },
  {
   "cell_type": "code",
   "execution_count": 125,
   "id": "99f97546-0ef5-4bee-a8d0-02f3aa0aa6a4",
   "metadata": {},
   "outputs": [
    {
     "data": {
      "text/plain": [
       "['bIG dATA']"
      ]
     },
     "execution_count": 125,
     "metadata": {},
     "output_type": "execute_result"
    }
   ],
   "source": [
    "d1[1,2,3]\n"
   ]
  },
  {
   "cell_type": "code",
   "execution_count": 133,
   "id": "497674d1-0cfb-4f72-9245-8be2ee0d276f",
   "metadata": {},
   "outputs": [
    {
     "data": {
      "text/plain": [
       "dict_keys(['AI', 8.8, (1, 2, 3)])"
      ]
     },
     "execution_count": 133,
     "metadata": {},
     "output_type": "execute_result"
    }
   ],
   "source": [
    "d1.keys()"
   ]
  },
  {
   "cell_type": "code",
   "execution_count": 137,
   "id": "4aec97d7-00e5-4c83-b562-f30f4d410524",
   "metadata": {},
   "outputs": [
    {
     "data": {
      "text/plain": [
       "dict_values([99, ['ML', 'DL'], ['bIG dATA']])"
      ]
     },
     "execution_count": 137,
     "metadata": {},
     "output_type": "execute_result"
    }
   ],
   "source": [
    "d1.values()"
   ]
  },
  {
   "cell_type": "code",
   "execution_count": 139,
   "id": "b324bc40-68fc-401d-a758-38664981e43b",
   "metadata": {},
   "outputs": [
    {
     "data": {
      "text/plain": [
       "{'AI': 10, 8.8: ['ML', 'DL'], (1, 2, 3): ['bIG dATA']}"
      ]
     },
     "execution_count": 139,
     "metadata": {},
     "output_type": "execute_result"
    }
   ],
   "source": [
    "d1['AI'] = 10\n",
    "d1"
   ]
  },
  {
   "cell_type": "code",
   "execution_count": 143,
   "id": "2bcaea6e-9d28-4a1e-9f75-586659eb1257",
   "metadata": {},
   "outputs": [
    {
     "data": {
      "text/plain": [
       "{'AI': 10, 8.8: ['ML', 'DL']}"
      ]
     },
     "execution_count": 143,
     "metadata": {},
     "output_type": "execute_result"
    }
   ],
   "source": [
    "d1.pop((1,2,3))\n",
    "d1"
   ]
  },
  {
   "cell_type": "code",
   "execution_count": 5,
   "id": "0950f28f-fdb5-49e2-a2f0-b05560932191",
   "metadata": {},
   "outputs": [
    {
     "data": {
      "text/plain": [
       "{(1, 2): 99, (100, 200): ['obay']}"
      ]
     },
     "execution_count": 5,
     "metadata": {},
     "output_type": "execute_result"
    }
   ],
   "source": [
    "d2={(1,2):99, (100,200):['obay']}\n",
    "d2"
   ]
  },
  {
   "cell_type": "code",
   "execution_count": 151,
   "id": "eeecb1dd-3af0-40f8-a875-9722103b75b3",
   "metadata": {},
   "outputs": [],
   "source": [
    "d3={(1,2):99, (100,200):{'obay'}}"
   ]
  },
  {
   "cell_type": "markdown",
   "id": "5f5a25b0-7993-486a-8ebd-afc839bb019a",
   "metadata": {},
   "source": [
    "## if statement if else statement\n",
    "\n"
   ]
  },
  {
   "cell_type": "code",
   "execution_count": 156,
   "id": "6712ea63-10f0-450c-95d8-06b78ae436e1",
   "metadata": {},
   "outputs": [],
   "source": [
    "country='Malaysia'\n",
    "if country == 'Singapore':\n",
    "    print( 'Country is Singapore')\n",
    "    "
   ]
  },
  {
   "cell_type": "code",
   "execution_count": 158,
   "id": "cb768f68-345f-4a7f-bc5e-3cb88bb434c1",
   "metadata": {},
   "outputs": [
    {
     "name": "stdout",
     "output_type": "stream",
     "text": [
      "Country is Malaysia\n"
     ]
    }
   ],
   "source": [
    "country='Malaysia'\n",
    "if country == 'Singapore':\n",
    "    print( 'Country is Singapore')\n",
    "\n",
    "else:\n",
    "    print('Country is Malaysia')"
   ]
  },
  {
   "cell_type": "code",
   "execution_count": 178,
   "id": "e60e848e-7260-4731-b0ab-fc72b7ecb690",
   "metadata": {},
   "outputs": [
    {
     "name": "stdout",
     "output_type": "stream",
     "text": [
      "Country is Malaysia\n"
     ]
    }
   ],
   "source": [
    "country='Malaysia'\n",
    "if country == 'Singapore':\n",
    "    print( 'Country is Singapore')\n",
    "    \n",
    "elif country == 'Thailand':\n",
    "    print('Country is Thailand')\n",
    "else:\n",
    "    print('Country is Malaysia')"
   ]
  },
  {
   "cell_type": "code",
   "execution_count": 180,
   "id": "6b649256-6716-46a9-9762-04b3ee176476",
   "metadata": {},
   "outputs": [
    {
     "name": "stdout",
     "output_type": "stream",
     "text": [
      "Country is Unknown\n"
     ]
    }
   ],
   "source": [
    "country='Malaysia'\n",
    "if country == 'Singapore':\n",
    "    print( 'Country is Singapore')\n",
    "    \n",
    "elif country == 'Thailand':\n",
    "    print('Country is Thailand')\n",
    "\n",
    "elif country != \"Singapore\":\n",
    "    print('Country is Unknown')\n",
    "else:\n",
    "    print('Country is Malaysia')"
   ]
  },
  {
   "cell_type": "markdown",
   "id": "59c193e6-c286-41a4-8788-1d6cd9c21f76",
   "metadata": {},
   "source": [
    "<img src=\"https://s3-api.us-geo.objectstorage.softlayer.net/cf-courses-data/CognitiveClass/PY0101EN/Chapter%203/Images/CondsTable.png\" width=\"650\" />"
   ]
  },
  {
   "cell_type": "code",
   "execution_count": 187,
   "id": "6ecc2ed2-5bc3-4ae2-b152-622de9b64118",
   "metadata": {},
   "outputs": [],
   "source": [
    "country1 = 'Malaysia'\n",
    "year = 2024\n",
    "\n",
    "if country == 'Malaysia' and year == 2020:\n",
    "    print('country is malaysia and year is 2024')"
   ]
  },
  {
   "cell_type": "code",
   "execution_count": 189,
   "id": "3d345512-f2f1-4028-80ef-037d58522ebe",
   "metadata": {},
   "outputs": [
    {
     "name": "stdout",
     "output_type": "stream",
     "text": [
      "country is malaysia and year is 2024\n"
     ]
    }
   ],
   "source": [
    "country1 = 'Malaysia'\n",
    "year = 2024\n",
    "\n",
    "if country == 'Malaysia' or year == 2020:\n",
    "    print('country is malaysia and year is 2024')"
   ]
  },
  {
   "cell_type": "code",
   "execution_count": 191,
   "id": "908bf826-d7af-4dc4-830c-ae53fa28dacb",
   "metadata": {},
   "outputs": [
    {
     "name": "stdout",
     "output_type": "stream",
     "text": [
      "country is malaysia and year is 2024\n"
     ]
    }
   ],
   "source": [
    "country1 = 'Malaysia'\n",
    "year = 2024\n",
    "\n",
    "if country == 'Malaysia' and year == 2024:\n",
    "    print('country is malaysia and year is 2024')"
   ]
  },
  {
   "cell_type": "code",
   "execution_count": 197,
   "id": "2e260e45-66c9-4606-b037-2ea1be2dd08e",
   "metadata": {},
   "outputs": [
    {
     "name": "stdout",
     "output_type": "stream",
     "text": [
      "country is malaysia and year is 2024\n"
     ]
    }
   ],
   "source": [
    "country1 = 'Malaysia'\n",
    "year = 2024\n",
    "\n",
    "if country == 'Malaysia' and year != 2020:\n",
    "    print('country is malaysia and year is 2024')"
   ]
  },
  {
   "cell_type": "code",
   "execution_count": 199,
   "id": "1be8af17-7fb8-4b78-8a80-cc203b27803d",
   "metadata": {},
   "outputs": [
    {
     "name": "stdout",
     "output_type": "stream",
     "text": [
      "country is malaysia and year is 2024\n"
     ]
    }
   ],
   "source": [
    "country1 = 'Malaysia'\n",
    "year = 2024\n",
    "\n",
    "if country == 'Malaysia' and year >= 2020:\n",
    "    print('country is malaysia and year is 2024')"
   ]
  },
  {
   "cell_type": "code",
   "execution_count": 193,
   "id": "c6895a14-01c8-49ae-b42d-c5538858c8ba",
   "metadata": {},
   "outputs": [
    {
     "name": "stdout",
     "output_type": "stream",
     "text": [
      "country is not Malaysia or year is not 2024\n"
     ]
    }
   ],
   "source": [
    "country1 = 'Malaysia'\n",
    "year = 2024\n",
    "\n",
    "if country == 'Malaysia' and year == 2020:\n",
    "    print('country is malaysia and year is 2024')\n",
    "\n",
    "else:\n",
    "    print('country is not Malaysia or year is not 2024')"
   ]
  },
  {
   "cell_type": "code",
   "execution_count": 203,
   "id": "c7957432-1513-4b6c-ba4a-8b5c632565ab",
   "metadata": {},
   "outputs": [
    {
     "name": "stdout",
     "output_type": "stream",
     "text": [
      "Country is Malaysia and year is earliar than 2020\n"
     ]
    }
   ],
   "source": [
    "country1 = 'Malaysia'\n",
    "year = 2024\n",
    "\n",
    "if country == 'Malaysia' and year == 2020:\n",
    "    print('country is malaysia and year is 2024')\n",
    "elif country == 'Malaysia' and year > 2020:\n",
    "    print( 'Country is Malaysia and year is earliar than 2020')\n",
    "else:\n",
    "    print('country is not Malaysia or year is not 2024')"
   ]
  },
  {
   "cell_type": "markdown",
   "id": "c7046ab3-ab13-4c03-8bb3-7ba5d3673c86",
   "metadata": {},
   "source": [
    "# Write a code for finding the odd and even numbers\n",
    "\n"
   ]
  },
  {
   "cell_type": "code",
   "execution_count": 214,
   "id": "1647cafc-09ec-4ab5-9935-f690cad13923",
   "metadata": {},
   "outputs": [
    {
     "name": "stdout",
     "output_type": "stream",
     "text": [
      "The number 40 is even\n"
     ]
    }
   ],
   "source": [
    "number = 40\n",
    "evenodd = number%2\n",
    "if evenodd == 0:\n",
    "    print ('The number' , number , 'is even')\n",
    "\n",
    "else :\n",
    "    print ('The number is odd')\n"
   ]
  },
  {
   "cell_type": "code",
   "execution_count": 220,
   "id": "7d7b9075-9725-4cfc-8058-3a440737ce6a",
   "metadata": {},
   "outputs": [
    {
     "name": "stdin",
     "output_type": "stream",
     "text": [
      "Enter the number 15\n"
     ]
    },
    {
     "name": "stdout",
     "output_type": "stream",
     "text": [
      "The number 15 is odd\n"
     ]
    }
   ],
   "source": [
    "input_num = input('Enter the number')\n",
    "\n",
    "input_num=int(input_num)\n",
    "if input_num%2 == 0:\n",
    "    print ('The number' , number , 'is even')\n",
    "\n",
    "else :\n",
    "    print ('The number', input_num,'is odd')"
   ]
  },
  {
   "cell_type": "code",
   "execution_count": 270,
   "id": "0900b338-63f9-423d-900f-c2e9ba74cdd5",
   "metadata": {},
   "outputs": [
    {
     "name": "stdout",
     "output_type": "stream",
     "text": [
      "Car is proton\n"
     ]
    }
   ],
   "source": [
    "# nested if elif and else\n",
    "\n",
    "price=1000\n",
    "car = 'Proton'\n",
    "\n",
    "if price > 500:\n",
    "    if price == 700:\n",
    "        print('The price is more than 700')\n",
    "    else:\n",
    "        if price == 100 or car=='Proton':\n",
    "            print('Car is proton')\n",
    "        else:\n",
    "            print('prive and car are unknown')\n",
    "        "
   ]
  },
  {
   "cell_type": "markdown",
   "id": "94b6b28d-6d10-4718-a977-c055672d37ba",
   "metadata": {},
   "source": [
    "#### Loop and while loop"
   ]
  },
  {
   "cell_type": "code",
   "execution_count": 277,
   "id": "b8434bbb-e63e-41b6-a09f-fb3edae9ffc5",
   "metadata": {},
   "outputs": [
    {
     "name": "stdout",
     "output_type": "stream",
     "text": [
      "100\n",
      "200\n",
      "300\n",
      "400\n",
      "500\n"
     ]
    }
   ],
   "source": [
    "list_num = [100,200,300,400,500]\n",
    "\n",
    "print(list_num[0])\n",
    "print(list_num[1])\n",
    "print(list_num[2])\n",
    "print(list_num[3])\n",
    "print(list_num[4])"
   ]
  },
  {
   "cell_type": "markdown",
   "id": "29768ad4-d066-4ab4-95e9-b0d958420624",
   "metadata": {},
   "source": [
    "#### for loop"
   ]
  },
  {
   "cell_type": "code",
   "execution_count": 280,
   "id": "008baaa0-46b0-4240-b814-955659086d1a",
   "metadata": {},
   "outputs": [
    {
     "data": {
      "text/plain": [
       "[100, 200, 300, 400, 500]"
      ]
     },
     "execution_count": 280,
     "metadata": {},
     "output_type": "execute_result"
    }
   ],
   "source": [
    "list_num"
   ]
  },
  {
   "cell_type": "code",
   "execution_count": 286,
   "id": "76567734-e5e0-47b3-ae92-7459901c66f4",
   "metadata": {},
   "outputs": [
    {
     "name": "stdout",
     "output_type": "stream",
     "text": [
      "100\n",
      "200\n",
      "300\n",
      "400\n",
      "500\n"
     ]
    }
   ],
   "source": [
    "for i in list_num:\n",
    "    print(i)"
   ]
  },
  {
   "cell_type": "code",
   "execution_count": 290,
   "id": "aef2fe5c-d59f-43c9-84da-3884f1226cd1",
   "metadata": {},
   "outputs": [
    {
     "name": "stdout",
     "output_type": "stream",
     "text": [
      "1\n",
      "2\n",
      "3\n",
      "4\n",
      "5\n",
      "6\n",
      "7\n",
      "8\n",
      "9\n"
     ]
    }
   ],
   "source": [
    "for num in range(1, 10):\n",
    "    print(num)"
   ]
  },
  {
   "cell_type": "code",
   "execution_count": 322,
   "id": "cfa0257b-1844-4a7b-9e2f-bebdc695c47a",
   "metadata": {},
   "outputs": [
    {
     "name": "stdout",
     "output_type": "stream",
     "text": [
      "1\n",
      "2\n",
      "3\n",
      "4\n"
     ]
    }
   ],
   "source": [
    "numbers = [1,2,3,4,5,6]\n",
    "\n",
    "#write a code to print all numbers below 5\n",
    "for i in numbers:\n",
    "    print(i)\n",
    "    if i == 4:\n",
    "        break"
   ]
  },
  {
   "cell_type": "code",
   "execution_count": 335,
   "id": "bcc7e9ba-fcee-4d90-a251-e49cbd488925",
   "metadata": {},
   "outputs": [
    {
     "name": "stdout",
     "output_type": "stream",
     "text": [
      "1\n",
      "2\n",
      "3\n",
      "4\n"
     ]
    }
   ],
   "source": [
    "numbers = [1,2,3,4,5,6]\n",
    "\n",
    "#write a code to print all numbers below 5\n",
    "for i in numbers:\n",
    "    if i < 5:\n",
    "        print(i)\n",
    "    "
   ]
  },
  {
   "cell_type": "code",
   "execution_count": 337,
   "id": "8ff5a900-ca69-45d0-8638-2138a7d67d6c",
   "metadata": {},
   "outputs": [
    {
     "name": "stdout",
     "output_type": "stream",
     "text": [
      "1\n",
      "2\n",
      "3\n",
      "4\n",
      "1\n",
      "2\n",
      "3\n",
      "4\n",
      "1\n",
      "2\n",
      "3\n",
      "4\n",
      "1\n",
      "2\n",
      "3\n",
      "4\n",
      "1\n",
      "2\n",
      "3\n",
      "4\n",
      "1\n",
      "2\n",
      "3\n",
      "4\n"
     ]
    }
   ],
   "source": [
    "numbers = [1,2,3,4,5,6]\n",
    "\n",
    "#write a code to print all numbers below 5\n",
    "for i in numbers:\n",
    "    for i in range(1,5):\n",
    "        print(i)"
   ]
  },
  {
   "cell_type": "code",
   "execution_count": 347,
   "id": "5ac9fadd-70ff-4319-94d3-95ba5a7f7022",
   "metadata": {},
   "outputs": [
    {
     "data": {
      "text/plain": [
       "{'AI': 10, 8.8: ['ML', 'DL']}"
      ]
     },
     "execution_count": 347,
     "metadata": {},
     "output_type": "execute_result"
    }
   ],
   "source": [
    "d1"
   ]
  },
  {
   "cell_type": "code",
   "execution_count": 349,
   "id": "2c337571-ad8f-4b97-bc64-4a91506c3746",
   "metadata": {},
   "outputs": [
    {
     "name": "stdout",
     "output_type": "stream",
     "text": [
      "AI\n",
      "8.8\n"
     ]
    }
   ],
   "source": [
    "for i in d1:\n",
    "    print(i)\n",
    "    "
   ]
  },
  {
   "cell_type": "markdown",
   "id": "61768709-2bb5-4d70-a921-41dba0fd5118",
   "metadata": {},
   "source": [
    "#### while loop"
   ]
  },
  {
   "cell_type": "code",
   "execution_count": 362,
   "id": "f2b0dfcb-29df-4b85-89ea-f9baebbab9b6",
   "metadata": {},
   "outputs": [
    {
     "name": "stdout",
     "output_type": "stream",
     "text": [
      "1\n",
      "2\n",
      "3\n",
      "4\n"
     ]
    }
   ],
   "source": [
    "numbers = [1,2,3,4,5,6]\n",
    "\n",
    "#write a code to print all numbers below 5\n",
    "\n",
    "i = 0\n",
    "num = None\n",
    "\n",
    "while (num != 4):\n",
    "    num = numbers[i] \n",
    "    i = i + 1\n",
    "    print(num)\n"
   ]
  },
  {
   "cell_type": "code",
   "execution_count": 364,
   "id": "7267d34b-719d-4ac0-a763-86a5df735e10",
   "metadata": {},
   "outputs": [
    {
     "name": "stdout",
     "output_type": "stream",
     "text": [
      "1\n",
      "2\n",
      "3\n"
     ]
    }
   ],
   "source": [
    "#write a code to print all numbers below 5\n",
    "i = 0\n",
    "num = None\n",
    "\n",
    "while (num != 3):\n",
    "    num = numbers[i] \n",
    "    i = i + 1\n",
    "    print(num)"
   ]
  },
  {
   "cell_type": "markdown",
   "id": "1b61535b-690a-4696-ba62-bf9cb7e1de79",
   "metadata": {},
   "source": [
    "#### nested loop"
   ]
  },
  {
   "cell_type": "code",
   "execution_count": 383,
   "id": "a7feba1a-bc97-4e2e-a82b-0248f0ef2dda",
   "metadata": {},
   "outputs": [
    {
     "name": "stdout",
     "output_type": "stream",
     "text": [
      "Muhammad\n",
      "M\n",
      "u\n",
      "h\n",
      "a\n",
      "m\n",
      "m\n",
      "a\n",
      "d\n",
      "-------------\n",
      "Noor\n",
      "N\n",
      "o\n",
      "o\n",
      "r\n",
      "-------------\n",
      "Chyrel\n",
      "C\n",
      "h\n",
      "y\n",
      "r\n",
      "e\n",
      "l\n",
      "-------------\n"
     ]
    }
   ],
   "source": [
    "names = ['Muhammad','Noor','Chyrel']\n",
    "\n",
    "for a in names:\n",
    "    print(a)\n",
    "    for b in (a):\n",
    "        print(b)\n",
    "\n",
    "    print('-------------')"
   ]
  },
  {
   "cell_type": "code",
   "execution_count": 394,
   "id": "d611fd87-d566-4265-95d0-75da0d6f3a45",
   "metadata": {},
   "outputs": [
    {
     "name": "stdout",
     "output_type": "stream",
     "text": [
      "0\n",
      "2\n",
      "4\n",
      "6\n",
      "8\n",
      "10\n",
      "12\n",
      "14\n",
      "16\n",
      "18\n",
      "20\n"
     ]
    }
   ],
   "source": [
    "#write the code to print only the even numbers in range of numbers 20\n",
    "\n",
    "for a in range(21):\n",
    "    if a%2 == 0:\n",
    "    \n",
    "        print(a)"
   ]
  },
  {
   "cell_type": "code",
   "execution_count": 404,
   "id": "bc6376f7-1c15-4af9-a99d-d38cb39b5bf9",
   "metadata": {},
   "outputs": [
    {
     "name": "stdout",
     "output_type": "stream",
     "text": [
      "[0]\n",
      "[0, 2]\n",
      "[0, 2, 4]\n",
      "[0, 2, 4, 6]\n",
      "[0, 2, 4, 6, 8]\n",
      "[0, 2, 4, 6, 8, 10]\n",
      "[0, 2, 4, 6, 8, 10, 12]\n",
      "[0, 2, 4, 6, 8, 10, 12, 14]\n",
      "[0, 2, 4, 6, 8, 10, 12, 14, 16]\n",
      "[0, 2, 4, 6, 8, 10, 12, 14, 16, 18]\n",
      "[0, 2, 4, 6, 8, 10, 12, 14, 16, 18, 20]\n",
      "[0, 2, 4, 6, 8, 10, 12, 14, 16, 18, 20]\n"
     ]
    }
   ],
   "source": [
    "\n",
    "even=[]\n",
    "for a in range(21):\n",
    "    if a%2 == 0:\n",
    "        even.append(a)\n",
    "        print(even)\n",
    "print(even)"
   ]
  },
  {
   "cell_type": "code",
   "execution_count": 406,
   "id": "7086d55e-7e06-4038-a4fe-66a16d07809e",
   "metadata": {},
   "outputs": [
    {
     "name": "stdout",
     "output_type": "stream",
     "text": [
      "[0, 2, 4, 6, 8, 10, 12, 14, 16, 18, 20]\n"
     ]
    }
   ],
   "source": [
    "\n",
    "even=[]\n",
    "for a in range(21):\n",
    "    if a%2 == 0:\n",
    "        even.append(a)\n",
    "        \n",
    "print(even)"
   ]
  },
  {
   "cell_type": "markdown",
   "id": "57ea9d49-07ca-4a12-92b4-1414196f7a46",
   "metadata": {},
   "source": [
    "Given the list of numbers, write the code to calculate the sum of even numbers in the list"
   ]
  },
  {
   "cell_type": "code",
   "execution_count": 421,
   "id": "cd2e600e-1da2-4651-9348-4a25ba1dffed",
   "metadata": {},
   "outputs": [
    {
     "name": "stdout",
     "output_type": "stream",
     "text": [
      "0\n",
      "2\n",
      "6\n",
      "12\n",
      "20\n",
      "30\n",
      "42\n",
      "56\n",
      "72\n",
      "90\n",
      "110\n",
      "Total of list are 110\n"
     ]
    }
   ],
   "source": [
    "total=0\n",
    "for i in even:\n",
    "    \n",
    "    total = total + i\n",
    "    print(total)\n",
    "\n",
    "print('Total of list are',total)"
   ]
  },
  {
   "cell_type": "code",
   "execution_count": 102,
   "id": "b84ed0b9-44c5-4c74-8690-ca1ea0fbacd9",
   "metadata": {},
   "outputs": [
    {
     "name": "stdout",
     "output_type": "stream",
     "text": [
      "0\n",
      "0\n",
      "----------------\n",
      "2\n",
      "2\n",
      "----------------\n",
      "4\n",
      "6\n",
      "----------------\n",
      "6\n",
      "12\n",
      "----------------\n",
      "8\n",
      "20\n",
      "----------------\n",
      "The sum of even number is 20\n"
     ]
    }
   ],
   "source": [
    "List_num = range(10)\n",
    "\n",
    "sum_even = 0\n",
    "\n",
    "for i in List_num: \n",
    "    if i%2 == 0:\n",
    "        print(i)\n",
    "        sum_even = sum_even +i\n",
    "        print(sum_even)\n",
    "        print('----------------')\n",
    "\n",
    "print('The sum of even number is', sum_even)"
   ]
  },
  {
   "cell_type": "markdown",
   "id": "11b61f76-c8b0-4243-bfe2-ad70cd485950",
   "metadata": {},
   "source": [
    "Given a string, write a code to calculate the number of vowels (a,e,i,o,u) in the string."
   ]
  },
  {
   "cell_type": "code",
   "execution_count": 444,
   "id": "be7192d3-18ab-4cfb-8738-fc47d8c058fa",
   "metadata": {
    "scrolled": true
   },
   "outputs": [
    {
     "name": "stdout",
     "output_type": "stream",
     "text": [
      "11\n"
     ]
    }
   ],
   "source": [
    "word='Hello World'\n",
    "sum_vow=0\n",
    "for i in word:\n",
    "    if i == 'a' or i == 'A' or i == 'E' or i == 'e' or i == 'i' or i == 'I' or i == 'o' or i == 'O' or i == 'u' or i == 'U':\n",
    "        sum_vow=sum_vow + 1 \n",
    "print(sum_vow)"
   ]
  },
  {
   "cell_type": "code",
   "execution_count": 456,
   "id": "d127a746-584c-4d37-be85-6e593202b6f9",
   "metadata": {},
   "outputs": [
    {
     "name": "stdout",
     "output_type": "stream",
     "text": [
      "The number of vowels are: 3\n"
     ]
    }
   ],
   "source": [
    "string='Hello World'\n",
    "sum_vow=0\n",
    "for vow in string.lower():\n",
    "    if vow in 'a,e,i,o,u':\n",
    "        sum_vow += 1 \n",
    "print('The number of vowels are:',sum_vow)"
   ]
  },
  {
   "cell_type": "code",
   "execution_count": 462,
   "id": "d83fdc37-5bf1-4ffd-b3be-7dfa94f1c836",
   "metadata": {},
   "outputs": [
    {
     "name": "stdout",
     "output_type": "stream",
     "text": [
      "The number of vowels are: 10\n"
     ]
    }
   ],
   "source": [
    "string='Artificial Intelligence'\n",
    "sum_vow=0\n",
    "for vow in string.lower():\n",
    "    if vow in 'a,e,i,o,u':\n",
    "        sum_vow += 1 \n",
    "print('The number of vowels are:',sum_vow)"
   ]
  },
  {
   "cell_type": "markdown",
   "id": "5b8b4071-ea4c-4693-87b0-c25de473353e",
   "metadata": {},
   "source": [
    "*Function*\n",
    "\n",
    "To define a function in Python, use the \"def\" keyword, followed by the function name, parentheses, and a colon. The body of the function is indented and contains the code to be executed when the function is called.\n",
    "\n",
    "def funname(arguments):"
   ]
  },
  {
   "cell_type": "code",
   "execution_count": 464,
   "id": "c6428313-1030-4421-936f-022d139e2d67",
   "metadata": {},
   "outputs": [],
   "source": [
    "def first_fun():\n",
    "    '''\n",
    "    This is my First funtion\n",
    "    '''\n",
    "    print('This is my first function')"
   ]
  },
  {
   "cell_type": "code",
   "execution_count": 468,
   "id": "9b4de4cd-5add-41b6-9751-67527692a482",
   "metadata": {},
   "outputs": [
    {
     "name": "stdout",
     "output_type": "stream",
     "text": [
      "This is my first function\n"
     ]
    }
   ],
   "source": [
    "first_fun()\n"
   ]
  },
  {
   "cell_type": "code",
   "execution_count": 470,
   "id": "64b1d6cc-71d4-4c57-b596-1d0ffded3e30",
   "metadata": {},
   "outputs": [],
   "source": [
    "def sum_num(a,b):\n",
    "    '''this funtion is about adding two num'''\n",
    "    c = a + b\n",
    "    print(c)"
   ]
  },
  {
   "cell_type": "code",
   "execution_count": 472,
   "id": "440e3ae7-6060-4cdb-b0f9-f8c82e09d483",
   "metadata": {},
   "outputs": [
    {
     "name": "stdout",
     "output_type": "stream",
     "text": [
      "12\n"
     ]
    }
   ],
   "source": [
    "sum_num(5,7)"
   ]
  },
  {
   "cell_type": "code",
   "execution_count": 478,
   "id": "c462f101-fcac-4507-94d9-3167298aff13",
   "metadata": {},
   "outputs": [
    {
     "name": "stdout",
     "output_type": "stream",
     "text": [
      "Big Data\n"
     ]
    }
   ],
   "source": [
    "sum_num('Big', ' Data')"
   ]
  },
  {
   "cell_type": "code",
   "execution_count": 480,
   "id": "3e84daf9-5281-49ae-8695-45b6459c8949",
   "metadata": {},
   "outputs": [],
   "source": [
    "def multiply_num(a,b,c):\n",
    "    d = a*b*c\n",
    "    return (d)"
   ]
  },
  {
   "cell_type": "code",
   "execution_count": 482,
   "id": "9299f223-0a34-42e5-a1d3-adfec7e993a4",
   "metadata": {},
   "outputs": [
    {
     "data": {
      "text/plain": [
       "60"
      ]
     },
     "execution_count": 482,
     "metadata": {},
     "output_type": "execute_result"
    }
   ],
   "source": [
    "multiply_num(10,2,3) "
   ]
  },
  {
   "cell_type": "markdown",
   "id": "1a134777-8cc2-4cb0-a5d3-dcd9c183ff28",
   "metadata": {},
   "source": [
    "**print vs return**\n",
    "\n",
    "To summarize, \"print\" is used to output values to the console for debugging or informational purposes, while \"return\" is used to send a value back from a function to the calling code. If you want to use the result of a function in other parts of your code, you need to use \"return\" to make that value available outside the function.\n",
    "\n",
    "\n",
    "\n",
    "**print just shows the human user a string representing what is going on inside the computer. The computer cannot make use of that printing. return is how a function gives back a value. This value is often unseen by the human user, but it can be used by the computer in further functions.**"
   ]
  },
  {
   "cell_type": "code",
   "execution_count": 488,
   "id": "19f631f8-87f8-4646-a7b0-c6e867c8347b",
   "metadata": {},
   "outputs": [],
   "source": [
    "def numType_check(num):\n",
    "    if num%2 == 0:\n",
    "        return ('The number is even number')\n",
    "\n",
    "    else:\n",
    "        return ('The number is odd number')"
   ]
  },
  {
   "cell_type": "code",
   "execution_count": 503,
   "id": "5ef08d86-07ff-47dd-9aff-e279eda7b257",
   "metadata": {},
   "outputs": [
    {
     "name": "stdout",
     "output_type": "stream",
     "text": [
      "random number is: 24\n",
      "The number is even number\n"
     ]
    }
   ],
   "source": [
    "import random\n",
    "value= random.randint(0,100)\n",
    "print('random number is:',value)\n",
    "result=numType_check(value)\n",
    "print(result)\n"
   ]
  },
  {
   "cell_type": "code",
   "execution_count": 508,
   "id": "885e840d-50a8-4170-b9b2-43330daa6bea",
   "metadata": {},
   "outputs": [
    {
     "name": "stdin",
     "output_type": "stream",
     "text": [
      "Enter the number 45\n"
     ]
    },
    {
     "name": "stdout",
     "output_type": "stream",
     "text": [
      "The number is: 45\n",
      "The number is odd number\n"
     ]
    }
   ],
   "source": [
    "input_num = input('Enter the number')\n",
    "\n",
    "input_num=int(input_num)\n",
    "print('The number is:',input_num)\n",
    "result=numType_check(input_num)\n",
    "print(result)"
   ]
  },
  {
   "cell_type": "markdown",
   "id": "a6097f0c-8605-451a-a860-2815193c1b0c",
   "metadata": {},
   "source": [
    "**Write a funtion to find the highest value in a list of numbers without using other function**"
   ]
  },
  {
   "cell_type": "code",
   "execution_count": 551,
   "id": "458ee9a5-690a-4842-897d-b2af513f8331",
   "metadata": {},
   "outputs": [
    {
     "name": "stdout",
     "output_type": "stream",
     "text": [
      "[]\n",
      "[39, 927, 445, 70, 540, 672, 226, 211, 883, 178, 867, 212, 535, 319, 125, 926, 294, 996, 157, 671, 369]\n"
     ]
    }
   ],
   "source": [
    "import random\n",
    "num_list = []\n",
    "print(num_list)\n",
    "i = 0\n",
    "for i in range(21):\n",
    "    num_list.append(random.randint(0,1000))\n",
    "        \n",
    "\n",
    "    \n",
    "\n",
    "print(num_list)"
   ]
  },
  {
   "cell_type": "code",
   "execution_count": 569,
   "id": "cc999128-a126-4ba2-8585-4975c895ff33",
   "metadata": {},
   "outputs": [],
   "source": [
    "def find_highest(high,num):\n",
    "    if num >= high:\n",
    "        high=num\n",
    "        return high\n",
    "    else:\n",
    "        return high\n"
   ]
  },
  {
   "cell_type": "code",
   "execution_count": 591,
   "id": "9881f011-e0a2-4599-9865-a4ff6b29ee49",
   "metadata": {},
   "outputs": [],
   "source": [
    "def find_lowest(low,num):\n",
    "    if num <= low:\n",
    "        low=num\n",
    "        return low\n",
    "    else:\n",
    "        return low"
   ]
  },
  {
   "cell_type": "code",
   "execution_count": null,
   "id": "6c149cb6-1a8d-4f2c-8da8-a48a282aed9a",
   "metadata": {},
   "outputs": [],
   "source": []
  },
  {
   "cell_type": "code",
   "execution_count": 619,
   "id": "65f5a887-0460-495b-8195-d277cec87f28",
   "metadata": {},
   "outputs": [
    {
     "name": "stdout",
     "output_type": "stream",
     "text": [
      "[568, 93, 179, 822, 606, 300, 82, 136, 974, 184, 128, 807, 936, 809, 367, 565, 30, 339, 330, 603, 365]\n",
      "568\n",
      "568\n",
      "The highest number in the list is: 974\n",
      "The lowest number in the list is: 30\n"
     ]
    }
   ],
   "source": [
    "import random\n",
    "num_list = []\n",
    "\n",
    "\n",
    "for i in range(21):\n",
    "    num_list.append(random.randint(0,1000))\n",
    "    \n",
    "high=num_list[0]\n",
    "low=num_list[0]\n",
    "print(num_list)\n",
    "print(low)\n",
    "print(high)\n",
    "for num in num_list:\n",
    "    high=find_highest(high,num)\n",
    "    \n",
    "for num in num_list:\n",
    "    low=find_lowest(low,num)\n",
    "\n",
    "print('The highest number in the list is:',high)\n",
    "print('The lowest number in the list is:',low)   \n",
    "\n"
   ]
  },
  {
   "cell_type": "markdown",
   "id": "9fd482ed-439b-4691-acd6-945f33067db4",
   "metadata": {},
   "source": [
    "**Write a funtion to sum the even numbers in a list of numbers**"
   ]
  },
  {
   "cell_type": "code",
   "execution_count": null,
   "id": "a898fde4-361f-4f8a-b27b-a2397ab8dbdd",
   "metadata": {},
   "outputs": [],
   "source": [
    "def sum_even(num)"
   ]
  },
  {
   "cell_type": "markdown",
   "id": "0ed09b7d-c9e6-4970-8d3f-58fae6b6e63d",
   "metadata": {},
   "source": [
    "**Find the missing number in the list below**"
   ]
  },
  {
   "cell_type": "code",
   "execution_count": 11,
   "id": "1a47a341-6d84-4c87-bac7-888e10c2adcc",
   "metadata": {},
   "outputs": [],
   "source": [
    "def miss_num (list_num):\n",
    "    List_num = range(1,list_num[-1]+1)\n",
    "    all_Num=[]\n",
    "    for num in List_num:\n",
    "        all_Num.append(num)\n",
    "\n",
    "    print('All number:',all_Num)\n",
    "    set_list=set(list_num)\n",
    "    set_all_Num=set(all_Num)\n",
    "    set_miss=set_all_Num.difference(set_list)\n",
    "    list_miss=list(set_miss)\n",
    "    \n",
    "    return(list_miss)\n",
    "\n",
    "    "
   ]
  },
  {
   "cell_type": "code",
   "execution_count": 13,
   "id": "503fda17-2538-45a0-967c-e690c8ce3ad2",
   "metadata": {},
   "outputs": [
    {
     "name": "stdout",
     "output_type": "stream",
     "text": [
      "Generated number: [7, 5, 2, 15, 6, 3, 8, 4, 14, 13]\n",
      "Rearranged number: [2, 3, 4, 5, 6, 7, 8, 13, 14, 15]\n",
      "All number: [1, 2, 3, 4, 5, 6, 7, 8, 9, 10, 11, 12, 13, 14, 15]\n",
      "The missing number/s are: [1, 9, 10, 11, 12]\n"
     ]
    }
   ],
   "source": [
    "import random\n",
    "num_list=[]\n",
    "\n",
    "\n",
    "for i in range(20):\n",
    "   # generating a random number in the range 1 to 20\n",
    "   r=random.randint(1,15)\n",
    "   # checking whether the generated random number is not in the\n",
    "   # randomList\n",
    "   if r not in num_list:\n",
    "       num_list.append(r)\n",
    "       length=len(num_list)\n",
    "       if length==10:\n",
    "           break\n",
    "      # appending the random number to the resultant list, if the condition is true\n",
    "      \n",
    "\n",
    "print('Generated number:',num_list)\n",
    "num_list.sort()\n",
    "print('Rearranged number:',num_list)\n",
    "print('The missing number/s are:',miss_num(num_list))"
   ]
  },
  {
   "cell_type": "code",
   "execution_count": 287,
   "id": "5e21d8e0-e68e-488d-90f5-b17c8089f1b3",
   "metadata": {},
   "outputs": [
    {
     "name": "stdout",
     "output_type": "stream",
     "text": [
      "Generated number: [1, 4, 3, 2, 5, 8, 7]\n",
      "Rearranged number: [1, 2, 3, 4, 5, 7, 8]\n",
      "All number: [1, 2, 3, 4, 5, 6, 7, 8]\n",
      "The missing number/s are: [6]\n"
     ]
    }
   ],
   "source": [
    "num_list=[1,4,3,2,5,8,7]\n",
    "\n",
    "\n",
    "print('Generated number:',num_list)\n",
    "num_list.sort()\n",
    "print('Rearranged number:',num_list)\n",
    "print('The missing number/s are:',miss_num(num_list))"
   ]
  },
  {
   "cell_type": "code",
   "execution_count": 309,
   "id": "5b16f195-76f1-4870-b727-968ccca7ec10",
   "metadata": {},
   "outputs": [
    {
     "name": "stdout",
     "output_type": "stream",
     "text": [
      "the missing number is: 6\n"
     ]
    }
   ],
   "source": [
    "num_list=[1,4,3,2,5,8,7]\n",
    "num_list.sort()\n",
    "\n",
    "for num in range(1,num_list[-1]):\n",
    "    if num not in num_list:\n",
    "        print('the missing number is:',num)"
   ]
  },
  {
   "cell_type": "code",
   "execution_count": null,
   "id": "275f7c63-26af-4941-b748-73d0d7f77eec",
   "metadata": {},
   "outputs": [],
   "source": []
  }
 ],
 "metadata": {
  "kernelspec": {
   "display_name": "Python 3 (ipykernel)",
   "language": "python",
   "name": "python3"
  },
  "language_info": {
   "codemirror_mode": {
    "name": "ipython",
    "version": 3
   },
   "file_extension": ".py",
   "mimetype": "text/x-python",
   "name": "python",
   "nbconvert_exporter": "python",
   "pygments_lexer": "ipython3",
   "version": "3.12.4"
  }
 },
 "nbformat": 4,
 "nbformat_minor": 5
}
